{
 "cells": [
  {
   "cell_type": "markdown",
   "metadata": {},
   "source": [
    "### 1. **Configuration**\n",
    "Parameters for training:\n",
    "- **Data Paths**: The location of the dataset and configuration files.\n",
    "- **Hyperparameters**: These include the number of epochs, batch size, image size, confidence threshold, learning rates, and other settings that influence model training.\n",
    "\n",
    "### 2. **Model Initialization**\n",
    "In this part of the notebook, we initialize the YOLOv8 model using a pre-trained weight file (`yolov8x.pt`). This step allows us to leverage transfer learning. We specifically chose YOLOv8x, the largest and most powerful variant of YOLOv8, for maximum performance. While this model requires more computational resources, it offers the highest accuracy among the YOLOv8 variants, making it ideal for applications where detection precision is paramount.\n",
    "\n",
    "### 3. **Training Process**\n",
    "The final section contains the command to train the model using specified parameters. This includes options for data augmentation, learning rate adjustments, and saving checkpoints during training. The training results will provide insights into model performance over time."
   ]
  },
  {
   "cell_type": "code",
   "execution_count": 1,
   "metadata": {},
   "outputs": [
    {
     "name": "stdout",
     "output_type": "stream",
     "text": [
      "Ultralytics YOLOv8.2.98  Python-3.11.8 torch-2.3.1+cpu CPU (11th Gen Intel Core(TM) i7-1165G7 2.80GHz)\n",
      "Setup complete  (8 CPUs, 15.6 GB RAM, 329.5/476.1 GB disk)\n"
     ]
    }
   ],
   "source": [
    "import os\n",
    "!pip install --upgrade ultralytics\n",
    "\n",
    "from IPython import display\n",
    "from IPython.display import Image\n",
    "display.clear_output()\n",
    "\n",
    "import ultralytics\n",
    "from ultralytics import YOLO\n",
    "ultralytics.checks()"
   ]
  },
  {
   "cell_type": "code",
   "execution_count": null,
   "metadata": {},
   "outputs": [],
   "source": [
    "import os\n",
    "from ultralytics import YOLO\n",
    "\n",
    "# Set up paths\n",
    "DATA_DIR = r'C:\\Users\\User\\Desktop\\DRMv2'\n",
    "YAML_PATH = os.path.join(DATA_DIR, 'sortedDataset', 'dataset.yaml')\n",
    "\n",
    "# Define hyperparameters\n",
    "EPOCHS = 300\n",
    "BATCH_SIZE = 8  # Keep at 8 if GPU memory allows, otherwise reduce to 4\n",
    "IMAGE_SIZE = 640  # Changed back to 640 as 1280 might be too large for most GPUs\n",
    "CONF_THRESHOLD = 0.001\n",
    "IOU_THRESHOLD = 0.6\n",
    "LEARNING_RATE = 0.01\n",
    "FINAL_LEARNING_RATE = 0.001\n",
    "\n",
    "# Initialize model\n",
    "model = YOLO('yolov8x.pt')\n",
    "\n",
    "# Train the model\n",
    "results = model.train(\n",
    "    data=YAML_PATH,\n",
    "    epochs=EPOCHS,\n",
    "    batch=BATCH_SIZE,\n",
    "    imgsz=IMAGE_SIZE,\n",
    "    single_cls=True,\n",
    "    conf=CONF_THRESHOLD,\n",
    "    iou=IOU_THRESHOLD,\n",
    "    augment=True,\n",
    "    lr0=LEARNING_RATE,\n",
    "    lrf=FINAL_LEARNING_RATE,\n",
    "    patience=20,\n",
    "    save=True,\n",
    "    save_period=10,\n",
    "    device='',  # Let YOLO choose the best available device\n",
    "    cos_lr=True,\n",
    "    warmup_epochs=5,\n",
    "    weight_decay=0.0005,\n",
    "    fliplr=0.5,\n",
    "    freeze=10,  # Freeze first 10 layers\n",
    "    multi_scale=True,\n",
    "    mosaic=1.0,\n",
    "    scale=0.5,\n",
    "    translate=0.2,\n",
    "    close_mosaic=10,\n",
    "    label_smoothing=0.1,\n",
    "    overlap_mask=True,\n",
    "    mask_ratio=4,\n",
    "    dropout=0.1,\n",
    "    plots=True\n",
    ")\n",
    "\n"
   ]
  }
 ],
 "metadata": {
  "kernelspec": {
   "display_name": "Python 3",
   "language": "python",
   "name": "python3"
  },
  "language_info": {
   "codemirror_mode": {
    "name": "ipython",
    "version": 3
   },
   "file_extension": ".py",
   "mimetype": "text/x-python",
   "name": "python",
   "nbconvert_exporter": "python",
   "pygments_lexer": "ipython3",
   "version": "3.11.8"
  }
 },
 "nbformat": 4,
 "nbformat_minor": 2
}
